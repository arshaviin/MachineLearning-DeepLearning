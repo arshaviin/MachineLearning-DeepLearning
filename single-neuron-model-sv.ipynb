{
 "cells": [
  {
   "cell_type": "markdown",
   "metadata": {
    "id": "FPXFHtR67XSz"
   },
   "source": [
    "# Introduction to Neural Networks \n",
    "\n",
    "\n",
    "** Ecole Centrale Nantes **\n",
    "\n",
    "** Diana Mateus **\n"
   ]
  },
  {
   "cell_type": "markdown",
   "metadata": {
    "id": "IaP5KNXD7XS3"
   },
   "source": [
    "** Participants : **\n",
    "Hatim FERTAT\n",
    "Joran JOSEPH-ANGÉLIQUE"
   ]
  },
  {
   "cell_type": "markdown",
   "metadata": {
    "id": "7-FyZE3B7XS4"
   },
   "source": [
    "## General description\n",
    "In this lab we will create a simple classifier based on neural networks. We will progress in two parts:\n",
    "- In the first part, and to better understand the involved operations, we will create a single-neuron model and optimize its parameters \"by hand\". For this first part we will only use the **Numpy** library\n",
    "- We will then build a CNN with the built-in **Keras** module from **tensorflow**. Tensorflow is already installed in the university computers. If using your own computer you should have already installed **tensorflow** or use **collab** online platform.\n",
    "\n",
    "\n"
   ]
  },
  {
   "cell_type": "code",
   "execution_count": 1,
   "metadata": {
    "id": "Vg8_j5r97XS5"
   },
   "outputs": [],
   "source": [
    "import numpy as np\n",
    "import matplotlib.pyplot as plt\n",
    "import h5py"
   ]
  },
  {
   "cell_type": "markdown",
   "metadata": {
    "id": "UvCSopBH7XS6"
   },
   "source": [
    "### Loading the dataset\n",
    "Start by runing the following lines to load and visualize the data."
   ]
  },
  {
   "cell_type": "code",
   "execution_count": 2,
   "metadata": {
    "id": "7_B5zGllLX9Q"
   },
   "outputs": [],
   "source": [
    "# UNCOMMENT IF USING COLAB\n",
    "#from google.colab import drive\n",
    "#drive.mount('/content/drive')\n",
    "IMDIR = 'Z:/dataset/'"
   ]
  },
  {
   "cell_type": "code",
   "execution_count": 3,
   "metadata": {
    "id": "Lb_1kDq77XS6"
   },
   "outputs": [],
   "source": [
    "def load_dataset(IMDIR):\n",
    "    train_dataset = h5py.File(IMDIR+'dataset/train_catvnoncat.h5', \"r\")\n",
    "    train_x = np.array(train_dataset[\"train_set_x\"][:]) \n",
    "    train_y = np.array(train_dataset[\"train_set_y\"][:])\n",
    "    test_dataset = h5py.File(IMDIR+'dataset/test_catvnoncat.h5', \"r\")\n",
    "    test_x = np.array(test_dataset[\"test_set_x\"][:]) \n",
    "    test_y = np.array(test_dataset[\"test_set_y\"][:])\n",
    "    classes = np.array(test_dataset[\"list_classes\"][:]) \n",
    "    \n",
    "    train_y = train_y.reshape((1, train_y.shape[0]))\n",
    "    test_y = test_y.reshape((1, test_y.shape[0]))\n",
    "    \n",
    "    return train_x, train_y, test_x, test_y, classes\n",
    "\n",
    "train_x, train_y, test_x, test_y, classes=load_dataset(IMDIR)"
   ]
  },
  {
   "cell_type": "markdown",
   "metadata": {
    "id": "z0hXCCuW7XS7"
   },
   "source": [
    "#### Visualize data"
   ]
  },
  {
   "cell_type": "code",
   "execution_count": 20,
   "metadata": {
    "id": "ZcGj2XDE7XS7",
    "outputId": "af8c1e1f-bd63-4173-833c-d9500cd00e81"
   },
   "outputs": [
    {
     "data": {
      "image/png": "[encoded data removed]",
      "text/plain": [
       "<Figure size 432x288 with 1 Axes>"
      ]
     },
     "metadata": {
      "needs_background": "light"
     },
     "output_type": "display_data"
    },
    {
     "name": "stdout",
     "output_type": "stream",
     "text": [
      "Train X shape: (209, 64, 64, 3)\n",
      "We have 209 images of dimensionality 64x64x3\n"
     ]
    }
   ],
   "source": [
    "# run several times to visualize different data points\n",
    "# the title shows the ground truth class labels (0=no cat , 1 = cat)\n",
    "index = np.random.randint(low=0,high=train_y.shape[1])\n",
    "plt.imshow(train_x[index])\n",
    "plt.title(\"Image \"+str(index)+\" label \"+str(train_y[0,index]))\n",
    "plt.show()\n",
    "print (\"Train X shape: \" + str(train_x.shape))\n",
    "print (\"We have \"+str(train_x.shape[0]), \n",
    "       \"images of dimensionality \" \n",
    "       + str(train_x.shape[1])+ \"x\"\n",
    "       + str(train_x.shape[2])+ \"x\"\n",
    "       + str(train_x.shape[3]))"
   ]
  },
  {
   "cell_type": "markdown",
   "metadata": {
    "id": "sFV3XzZP7XS8"
   },
   "source": [
    "#### Preprocessing\n",
    "In the following lines we vectorize the images (Instead of a 2-D image we will give as input to the models a 1-D vector). The normalization makes the image intensities be between 0 and 1, and converts the images to floats."
   ]
  },
  {
   "cell_type": "code",
   "execution_count": 21,
   "metadata": {
    "id": "4SvsLwGb7XS9"
   },
   "outputs": [
    {
     "name": "stdout",
     "output_type": "stream",
     "text": [
      "Original train X shape: (209, 64, 64, 3)\n",
      "Original test X shape: (50, 64, 64, 3)\n",
      "Train X shape: (12288, 209)\n",
      "Train Y shape: (1, 209)\n",
      "Test X shape: (12288, 50)\n",
      "Test Y shape: (1, 50)\n"
     ]
    }
   ],
   "source": [
    "train_x, train_y, test_x, test_y, classes=load_dataset(IMDIR)\n",
    "print (\"Original train X shape: \" + str(train_x.shape))\n",
    "print (\"Original test X shape: \" + str(test_x.shape))\n",
    "train_x = train_x.reshape(train_x.shape[0], -1).T\n",
    "test_x = test_x.reshape(test_x.shape[0], -1).T\n",
    "print (\"Train X shape: \" + str(train_x.shape))\n",
    "print (\"Train Y shape: \" + str(train_y.shape))\n",
    "print (\"Test X shape: \" + str(test_x.shape))\n",
    "print (\"Test Y shape: \" + str(test_y.shape))"
   ]
  },
  {
   "cell_type": "code",
   "execution_count": 22,
   "metadata": {
    "id": "fuv_0I7O7XS9"
   },
   "outputs": [],
   "source": [
    "train_x = train_x/255.\n",
    "test_x = test_x/255."
   ]
  },
  {
   "cell_type": "markdown",
   "metadata": {
    "id": "HsHkFIdd7XS-"
   },
   "source": [
    "### 1. Classification with a single neuron \n"
   ]
  },
  {
   "cell_type": "markdown",
   "metadata": {
    "id": "i-HI-OoM7XS-"
   },
   "source": [
    "**a)** Fill-in the following three functions to define the single neuron model (a single neuron in the hidden layer):\n",
    "- A function **initialize_parameters**, which given the number of desired weights ```dim```  it inizializes the neuron parameters.  \n",
    "> The function will initialize:\n",
    "> * the model's weights $\\mathbf{w}$ by randomly, by sampling small values from a normal distribution (**Hint:** np.random.randn). \n",
    "> * the bias $b$ with 0. \n",
    "What is the number of weights required? pass this information as a parameter to the function.\n",
    "- A function **sigmoid** that computes the sigmoid activation function\n",
    "- A function **neuron** that given an input vector, the weights and bias, computes the output of the single neuron model"
   ]
  },
  {
   "cell_type": "code",
   "execution_count": 246,
   "metadata": {
    "id": "3_qACoB77XS_"
   },
   "outputs": [],
   "source": [
    "def sigmoid(z):\n",
    "    res = np.exp(z)/(1+np.exp(z))\n",
    "    return res"
   ]
  },
  {
   "cell_type": "code",
   "execution_count": 247,
   "metadata": {
    "id": "7Q4QQDSy7XS_"
   },
   "outputs": [],
   "source": [
    "def initialize_parameters(dim):\n",
    "    w = np.random.randn(dim,1)\n",
    "    b = 0\n",
    "    return w, b"
   ]
  },
  {
   "cell_type": "code",
   "execution_count": 248,
   "metadata": {
    "id": "LYIgpzVN7XTA"
   },
   "outputs": [],
   "source": [
    "def neuron(w,b,x):\n",
    "    pred_y = sigmoid(np.dot(w.T,x)+b)\n",
    "    return pred_y"
   ]
  },
  {
   "cell_type": "markdown",
   "metadata": {
    "id": "sfaqixLE7XTA"
   },
   "source": [
    "**b)** **Forward Pass:**\n",
    "Use the three functions above to compute a first forward pass for the input matrix $X$ containing the loaded dataset, for some initialization of the weights and bias.\n",
    " \n",
    " \\begin{align}\n",
    " Y_{\\rm pred}=\\sigma(w^\\top X+b) = [y_{\\rm pred}^{(1)},y_{\\rm pred}^{(2)},\\dots,y_{\\rm pred}^{(m)}]\n",
    " \\end{align}\n",
    " "
   ]
  },
  {
   "cell_type": "code",
   "execution_count": 249,
   "metadata": {
    "id": "dFWcskKb7XTA"
   },
   "outputs": [
    {
     "name": "stdout",
     "output_type": "stream",
     "text": [
      "[[1.00000000e+00 1.85030336e-10 9.01240251e-11 9.94892098e-01\n",
      "  1.00000000e+00 5.09957926e-06 1.00000000e+00 9.99490087e-01\n",
      "  1.21892226e-28 5.13657593e-09 3.21578528e-01 1.00000000e+00\n",
      "  5.03886671e-10 9.99999958e-01 1.00000000e+00 1.25589264e-33\n",
      "  6.63764316e-31 1.94292501e-32 9.99296710e-01 9.99999997e-01\n",
      "  4.17512622e-12 1.00000000e+00 9.73399248e-11 8.69810663e-30\n",
      "  1.00000000e+00 5.39225719e-08 1.88936173e-02 1.00000000e+00\n",
      "  2.06649046e-03 1.00000000e+00 9.99999382e-01 9.99999196e-01\n",
      "  1.05747859e-43 1.00000000e+00 1.00000000e+00 1.00000000e+00\n",
      "  9.99999674e-01 9.81750983e-03 2.36594786e-07 9.99919831e-01\n",
      "  3.42142853e-04 1.00000000e+00 1.54490851e-18 1.05471389e-01\n",
      "  9.99999995e-01 1.00000000e+00 2.60949204e-01 1.00000000e+00\n",
      "  9.99999987e-01 1.15797053e-17 3.55267347e-04 1.75088065e-04\n",
      "  1.00000000e+00 2.49618887e-03 9.99999959e-01 4.83625085e-26\n",
      "  9.99989814e-01 1.00000000e+00 9.99999990e-01 9.99999779e-01\n",
      "  1.81756275e-02 6.55768568e-23 1.86128875e-03 9.99999952e-01\n",
      "  1.22862691e-19 9.99932320e-01 5.62268291e-13 7.74685368e-02\n",
      "  1.89155795e-05 2.85491462e-04 2.90595111e-08 1.00000000e+00\n",
      "  1.00000000e+00 2.79194990e-05 2.58521431e-02 1.59583888e-05\n",
      "  1.90619716e-01 1.00000000e+00 1.00000000e+00 3.83395128e-04\n",
      "  7.48489279e-01 5.06657091e-12 9.98333123e-01 1.26245896e-28\n",
      "  4.45110582e-08 1.00000000e+00 9.99987561e-01 9.99993506e-01\n",
      "  4.84408560e-01 1.22322760e-06 5.67823464e-17 1.00000000e+00\n",
      "  9.97443666e-01 4.30842632e-01 5.48210640e-19 9.99999990e-01\n",
      "  1.20840742e-16 2.97847221e-02 9.93862010e-01 1.80323248e-14\n",
      "  8.45023887e-32 9.99999985e-01 1.00000000e+00 1.00000000e+00\n",
      "  9.98882662e-01 2.52550011e-01 2.31740266e-03 6.08265790e-06\n",
      "  9.99718609e-01 5.66443372e-01 2.73405996e-02 2.21048953e-14\n",
      "  9.99822530e-01 1.62229061e-14 9.07731970e-07 3.44615290e-12\n",
      "  6.37282619e-43 9.99847896e-01 2.47381776e-11 8.50573937e-17\n",
      "  1.00000000e+00 5.20136341e-18 7.71540578e-01 2.19899489e-09\n",
      "  9.99999968e-01 1.00000000e+00 9.99987120e-01 1.00000000e+00\n",
      "  9.99995036e-01 9.99999980e-01 9.99999987e-01 3.15616886e-13\n",
      "  1.00000000e+00 1.00000000e+00 4.34666531e-02 2.63589886e-10\n",
      "  9.99999999e-01 1.79005853e-01 6.77683365e-13 1.00000000e+00\n",
      "  1.00000000e+00 1.00000000e+00 1.00000000e+00 9.66544745e-06\n",
      "  5.04212433e-03 1.83549741e-04 1.37475370e-08 1.63420968e-09\n",
      "  9.99999998e-01 1.02336891e-19 1.34592808e-08 1.00000000e+00\n",
      "  1.00000000e+00 7.07892920e-16 2.06251457e-09 1.00000000e+00\n",
      "  9.99998561e-01 9.99996594e-01 1.01303774e-17 2.98102275e-06\n",
      "  9.99999999e-01 1.24671725e-04 1.00000000e+00 1.00000000e+00\n",
      "  3.12752556e-13 9.99999999e-01 4.07035918e-04 1.26736235e-03\n",
      "  9.99999916e-01 1.20670526e-06 9.70474978e-24 1.77004877e-10\n",
      "  6.96874083e-06 1.00000000e+00 1.00000000e+00 9.89172732e-01\n",
      "  9.99999736e-01 8.79399318e-15 1.00000000e+00 9.62779728e-01\n",
      "  9.68916231e-01 1.00000000e+00 9.96525350e-01 1.00000000e+00\n",
      "  9.99976191e-01 1.77870177e-01 9.99999990e-01 1.00000000e+00\n",
      "  1.15003734e-34 2.02649885e-07 1.00000000e+00 3.42573529e-12\n",
      "  1.02550206e-24 2.08176017e-41 1.00000000e+00 9.99998802e-01\n",
      "  2.30354187e-09 1.70853313e-02 9.99999998e-01 5.33806057e-06\n",
      "  1.00000000e+00 1.74646331e-14 2.83466306e-25 2.01525269e-17\n",
      "  1.11352983e-11 1.00000000e+00 4.45079725e-02 9.99997521e-01\n",
      "  9.99999031e-01]]\n"
     ]
    }
   ],
   "source": [
    "\n",
    "x = train_x\n",
    "dim,b = np.shape(x)\n",
    "w,b = initialize_parameters(dim)\n",
    "pred_y = neuron(w,b,x)\n",
    "\n",
    "print(pred_y)"
   ]
  },
  {
   "cell_type": "markdown",
   "metadata": {
    "id": "UJMQ61FJ7XTB"
   },
   "source": [
    "**c) Cost estimation:**\n",
    " \n",
    "We will use a binary cross-entropy loss, so that the empirical risk can be computed as:\n",
    " \\begin{align}\n",
    " E = - \\frac{1}{m} \\sum_{i=1}^m \n",
    " y^{(i)} \\log(y_{\\rm pred}^{(i)}) +\n",
    " (1-y^{(i)}) \\log(1-y_{\\rm pred}^{(i)})\n",
    " \\end{align}\n",
    " \n",
    " The following cross-entropy function should give as result the **scalar** cost value computed over the entire dataset"
   ]
  },
  {
   "cell_type": "code",
   "execution_count": 250,
   "metadata": {
    "id": "JOfXYhdX7XTB"
   },
   "outputs": [
    {
     "data": {
      "text/plain": [
       "8.331297329581114"
      ]
     },
     "execution_count": 250,
     "metadata": {},
     "output_type": "execute_result"
    }
   ],
   "source": [
    "def crossentropy(train,pred):\n",
    "    n = np.size(train)\n",
    "    cost = np.sum(train*np.log(pred+1e-10)+(1-train)*np.log(1-pred+1e-10))\n",
    "    return -1*cost/n\n",
    "\n",
    "crossentropy(train_y,pred_y)"
   ]
  },
  {
   "cell_type": "markdown",
   "metadata": {
    "id": "tpUjfeFl7XTB"
   },
   "source": [
    "**d) Back propagation:**\n",
    "\n",
    "After initializing the parameters and doing a forward pass, we need to backpropagate the cost by computing the gradient with respect to the model parameters to later update the weights\n",
    "\n",
    "\\begin{align}\n",
    "\\frac{\\partial E}{\\partial w} = \\\\\n",
    "\\frac{\\partial E}{\\partial b} = \n",
    "\\end{align}\n",
    "\n",
    "See a demonstration of the gradient computation in \n",
    "https://en.wikipedia.org/wiki/Cross_entropy\n",
    "\n",
    "Fill-in the backpropagation function which receives as input the the training set (X,Y), as well as the current predictions and returns the gradients updates for the weights and bias\n",
    "\n",
    "Hint: When the error is computed for several samples simultaneously, the gradient is averaged over the contribution of different samples.\n"
   ]
  },
  {
   "cell_type": "code",
   "execution_count": 251,
   "metadata": {},
   "outputs": [
    {
     "name": "stdout",
     "output_type": "stream",
     "text": [
      "(12288, 209)\n",
      "(1, 209)\n"
     ]
    }
   ],
   "source": [
    "A = np.array([[1,2,3],[4,5,6],[7,8,9]])\n",
    "a = np.ones((3,1))\n",
    "np.concatenate((a,A),1)\n",
    "\n",
    "print(train_x.shape)\n",
    "X = train_x\n",
    "print(train_y.shape)"
   ]
  },
  {
   "cell_type": "code",
   "execution_count": 252,
   "metadata": {
    "id": "hnLozAFY7XTC"
   },
   "outputs": [],
   "source": [
    "def backpropagate(X, Y, Ypred):\n",
    "    m = X.shape[1]\n",
    "    #find gradient (back propagation)\n",
    "    dw = np.matmul(X,(Ypred-Y).T)/m\n",
    "    db = np.sum(Ypred-Y)/m\n",
    "    grads = {\"dw\": dw,\n",
    "             \"db\": db} \n",
    "    return grads\n",
    "\n"
   ]
  },
  {
   "cell_type": "markdown",
   "metadata": {
    "id": "TYIlVxrX7XTC"
   },
   "source": [
    "**e) Optimization**\n",
    "After initializing the parameters, computing the cost function, and calculating gradients, we can now update the parameters using gradient descent. Use the functions implemented above to fill_in the \"gradient_descent\" function that optimizes the parameters given a training set X, Y, a fixed number of iterations, and a learning_rate. Store and plot the value of the loss function at each iteration"
   ]
  },
  {
   "cell_type": "code",
   "execution_count": 253,
   "metadata": {
    "id": "oBSR8UOU7XTC"
   },
   "outputs": [],
   "source": [
    "def gradient_descent(X, Y, iterations, learning_rate):\n",
    "    costs = []\n",
    "    w, b = initialize_parameters(X.shape[0])\n",
    "    \n",
    "    for i in range(iterations):\n",
    "        Ypred = neuron(w,b,X)\n",
    "        cost = crossentropy(Y,Ypred)\n",
    "        grads= backpropagate(X,Y,Ypred)\n",
    "        \n",
    "        #update parameters\n",
    "        w = w - learning_rate*grads['dw']\n",
    "        b = b - learning_rate*grads['db']\n",
    "        costs.append(cost)\n",
    "        \n",
    "        #if i % 100 == 0:\n",
    "            #print (\"Cost after iteration %i: %f\" %(i, cost))\n",
    "       \n",
    "    return w,b, costs\n",
    "\n",
    "w, b, costs = gradient_descent(train_x,train_y,iterations=2000, learning_rate = 0.005)"
   ]
  },
  {
   "cell_type": "markdown",
   "metadata": {
    "id": "YOfvYu8m7XTD"
   },
   "source": [
    "**f) Plot the training loss curve**\n",
    "Plot the evolution of the loss against the iterations "
   ]
  },
  {
   "cell_type": "code",
   "execution_count": 254,
   "metadata": {
    "id": "DSlvAuw17XTD"
   },
   "outputs": [
    {
     "data": {
      "image/png": "[encoded data removed]",
      "text/plain": [
       "<Figure size 432x288 with 1 Axes>"
      ]
     },
     "metadata": {
      "needs_background": "light"
     },
     "output_type": "display_data"
    }
   ],
   "source": [
    "plt.plot(costs)\n",
    "plt.ylabel('cost')\n",
    "plt.xlabel('iterations')\n",
    "plt.show()"
   ]
  },
  {
   "cell_type": "markdown",
   "metadata": {
    "id": "_U0z7L2e7XTE"
   },
   "source": [
    "**g) Prediction**\n",
    "Use the optimized parameters to make predictions both for the train and test sets and compute the accuracy for each. What do you observe?"
   ]
  },
  {
   "cell_type": "code",
   "execution_count": 255,
   "metadata": {
    "id": "Fa5P3G0a7XTE"
   },
   "outputs": [
    {
     "name": "stdout",
     "output_type": "stream",
     "text": [
      "Train Acc: 72.11054576840262 %\n",
      "Test Acc: 55.259842393997516 %\n"
     ]
    }
   ],
   "source": [
    "def predict(w, b, X):  \n",
    "    y_pred = sigmoid(np.dot(w.T,X)+b)\n",
    "    return y_pred\n",
    "\n",
    "# predict \n",
    "train_pred_y = predict(w, b, train_x)\n",
    "test_pred_y = predict(w, b, test_x)\n",
    "print(\"Train Acc: {} %\".format(100 - np.mean(np.abs(train_pred_y - train_y)) * 100))\n",
    "print(\"Test Acc: {} %\".format(100 - np.mean(np.abs(test_pred_y - test_y)) * 100))\n",
    "    "
   ]
  },
  {
   "cell_type": "markdown",
   "metadata": {
    "id": "fu6dKcFf3Cy4"
   },
   "source": [
    "**h)Choose learning rate on a validation set** Use 10% of the training data as validation to choose the learning rate. What are the best results you can obtain? (use only the validation data to choose, buy repport the accuracy on the train and test data)\n"
   ]
  },
  {
   "cell_type": "code",
   "execution_count": 260,
   "metadata": {
    "id": "gc1i9fHi36aS",
    "scrolled": true
   },
   "outputs": [
    {
     "data": {
      "text/plain": [
       "Text(0.5, 1.0, 'error in function of learning_rate')"
      ]
     },
     "execution_count": 260,
     "metadata": {},
     "output_type": "execute_result"
    },
    {
     "data": {
      "image/png": "[encoded data removed]",
      "text/plain": [
       "<Figure size 432x288 with 1 Axes>"
      ]
     },
     "metadata": {
      "needs_background": "light"
     },
     "output_type": "display_data"
    }
   ],
   "source": [
    "validation_x = train_x[:,:21]\n",
    "validation_y = train_y[:,:21]\n",
    "accs=[]\n",
    "lambdas = np.linspace(0,0.006,50)\n",
    "for k in lambdas:\n",
    "    w,b,cost = gradient_descent(validation_x, validation_y, 2000, k)\n",
    "    accs.append(np.mean(np.abs(predict(w,b,validation_x) - validation_y)))\n",
    "    \n",
    "plt.plot(lambdas,accs)\n",
    "plt.title(\"error in function of learning_rate\")"
   ]
  },
  {
   "cell_type": "code",
   "execution_count": 256,
   "metadata": {},
   "outputs": [
    {
     "data": {
      "text/plain": [
       "array([[0, 0, 1, 0, 0, 0, 0, 1, 0, 0, 0, 1, 0, 1, 1, 0, 0, 0, 0, 1, 0]],\n",
       "      dtype=int64)"
      ]
     },
     "execution_count": 256,
     "metadata": {},
     "output_type": "execute_result"
    }
   ],
   "source": [
    "validation_y"
   ]
  },
  {
   "cell_type": "code",
   "execution_count": 279,
   "metadata": {},
   "outputs": [
    {
     "data": {
      "text/plain": [
       "Text(0.5, 1.0, 'learning rate = 0.005')"
      ]
     },
     "execution_count": 279,
     "metadata": {},
     "output_type": "execute_result"
    },
    {
     "data": {
      "image/png": "[encoded data removed]",
      "text/plain": [
       "<Figure size 432x288 with 4 Axes>"
      ]
     },
     "metadata": {
      "needs_background": "light"
     },
     "output_type": "display_data"
    }
   ],
   "source": [
    "plt.figure()\n",
    "\n",
    "w, b, costs_train = gradient_descent(train_x,train_y,iterations=2000, learning_rate = 0.0001)\n",
    "w, b, costs_valid = gradient_descent(validation_x,validation_y,iterations=2000, learning_rate = 0.0001)\n",
    "plt.subplot(2,2,1)\n",
    "plt.plot(costs_train)\n",
    "plt.plot(costs_valid)\n",
    "plt.title(\"learning rate = 0.0001\")\n",
    "\n",
    "w, b, costs_train = gradient_descent(train_x,train_y,iterations=2000, learning_rate = 0.0005)\n",
    "w, b, costs_valid = gradient_descent(validation_x,validation_y,iterations=2000, learning_rate = 0.0005)\n",
    "plt.subplot(2,2,2)\n",
    "plt.plot(costs_train)\n",
    "plt.plot(costs_valid)\n",
    "plt.title(\"learning rate = 0.0005\")\n",
    "\n",
    "w, b, costs_train = gradient_descent(train_x,train_y,iterations=2000, learning_rate = 0.001)\n",
    "w, b, costs_valid = gradient_descent(validation_x,validation_y,iterations=2000, learning_rate = 0.001)\n",
    "plt.subplot(2,2,3)\n",
    "plt.plot(costs_train)\n",
    "plt.plot(costs_valid)\n",
    "plt.title(\"learning rate = 0.001\")\n",
    "\n",
    "w, b, costs_train = gradient_descent(train_x,train_y,iterations=2000, learning_rate = 0.005)\n",
    "w, b, costs_valid = gradient_descent(validation_x,validation_y,iterations=2000, learning_rate = 0.005)\n",
    "plt.subplot(2,2,4)\n",
    "plt.plot(costs_train)\n",
    "\n",
    "plt.plot(costs_valid)\n",
    "plt.legend([\"train\",\"validation\"])\n",
    "plt.title(\"learning rate = 0.005\")"
   ]
  },
  {
   "cell_type": "code",
   "execution_count": 278,
   "metadata": {},
   "outputs": [
    {
     "name": "stdout",
     "output_type": "stream",
     "text": [
      "Train Acc: 73.2831361121008 %\n",
      "Test Acc: 58.55149596702506 %\n"
     ]
    }
   ],
   "source": [
    "w, b, costs_train = gradient_descent(train_x,train_y,iterations=2000, learning_rate = 0.005)\n",
    "\n",
    "def predict(w, b, X):  \n",
    "    y_pred = sigmoid(np.dot(w.T,X)+b)\n",
    "    return y_pred\n",
    "\n",
    "# predict \n",
    "train_pred_y = predict(w, b, train_x)\n",
    "test_pred_y = predict(w, b, test_x)\n",
    "print(\"Train Acc: {} %\".format(100 - np.mean(np.abs(train_pred_y - train_y)) * 100))\n",
    "print(\"Test Acc: {} %\".format(100 - np.mean(np.abs(test_pred_y - test_y)) * 100))"
   ]
  }
 ],
 "metadata": {
  "colab": {
   "provenance": []
  },
  "kernelspec": {
   "display_name": "Python 3",
   "language": "python",
   "name": "python3"
  },
  "language_info": {
   "codemirror_mode": {
    "name": "ipython",
    "version": 3
   },
   "file_extension": ".py",
   "mimetype": "text/x-python",
   "name": "python",
   "nbconvert_exporter": "python",
   "pygments_lexer": "ipython3",
   "version": "3.8.10"
  }
 },
 "nbformat": 4,
 "nbformat_minor": 4
}
